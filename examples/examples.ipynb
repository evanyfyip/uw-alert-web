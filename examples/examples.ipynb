{
 "cells": [
  {
   "cell_type": "markdown",
   "id": "7f69c74a",
   "metadata": {},
   "source": [
    "# How to Run Our Project"
   ]
  },
  {
   "cell_type": "markdown",
   "id": "5515e2d4",
   "metadata": {},
   "source": [
    "The following instructions are to be performed in a command line interface from the root directory of the project: \n",
    "- \"git clone\" the repository to download the latest version of the application\n",
    "- conda env create --name uw_alerts_env\n",
    "- conda activate uw_alerts_env\n",
    "- pip install -e .\n",
    "- cd uw-alert-web\n",
    "- flask --app=uw-alert-web run\n",
    "\n",
    "Our app also requires a .env file in the root directory containing API keys to the services we use. It should look like the following:\\\n",
    "OPENAI_API_KEY='[INSERT YOUR KEY HERE]'\\\n",
    "GOOGLE_MAPS_API_KEY='[INSERT YOUR KEY HERE]'\\\n",
    "MAPBOX_API_KEY='[INSERT YOUR KEY HERE]'\n",
    "\n",
    "API Keys can be obtained from the following:\\\n",
    "[OpenAI](https://platform.openai.com)\n",
    "[Google Maps](https://developers.google.com/maps/documentation/javascript/get-api-key)\n",
    "[Mapbox](https://docs.mapbox.com/help/getting-started/access-tokens/)\n",
    "\n",
    "The app will now be running on the URL: http://127.0.0.1:5000"
   ]
  },
  {
   "cell_type": "markdown",
   "id": "a06b4c7a",
   "metadata": {},
   "source": [
    "# Inside the \"Demo\" page, users can display custom alerts in the specified formats"
   ]
  },
  {
   "cell_type": "markdown",
   "id": "e824e942",
   "metadata": {},
   "source": [
    "## Format to display a New Alert\n",
    "%B %d, %Y\\\n",
    "ORIGINAL POST: [Alert Description. Must include location, time is optional]\n",
    "#### Examples\n",
    "January 26, 2023\\\n",
    "ORIGINAL POST: Police looking for man with handgun on 47th St. near 16th Ave. Secure doors, avoid area if possible. Info: alert.uw.edu\n",
    "\n",
    "\n",
    "December 24, 2022\\\n",
    "ORIGINAL POST: Shooting reported near 42nd Ave NE/Roosevelt at 12:46pm. Shooter fled in white vehicle. Info: alert.uw.edu\n",
    "\n",
    "\n",
    "December 13, 2022\\\n",
    "ORIGINAL POST: SFD HazMat response at Hitchcock Hall. Road closed at e/b Pacific Ave. near 15th Ave. Avoid area. Info: alert.uw.edu"
   ]
  },
  {
   "cell_type": "markdown",
   "id": "3c278ddd",
   "metadata": {},
   "source": [
    "##  Format to update an Existing Alert\n",
    "%B %d, %Y\\\n",
    "UPDATE at %I:%M%p: [Alert Update Description. Must include location, time is optional]\n",
    "\n",
    "#### Examples\n",
    "March 9, 2023\\\n",
    "UPDATE at 8:30pm: An individual was stabbed near Padelford Garage. The suspect was reportedly a male with no further detailed description available. The suspect reportedly fled the area heading west. The victim does not appear to be affiliated with the UW.\n",
    "\n",
    "January 26, 2023\\\n",
    "UPDATE at 2:25pm: Seattle police and UWPD are checking the area of NE 47th St. near 16th Ave. NE for a man reportedly running with a handgun. Residents in the area should secure doors and windows and others should avoid the area, if possible. More information will provided here as it becomes available.\n",
    "\n",
    "December 24, 2022\\\n",
    "UPDATE at 1:04pm: The vehicle description has been updated to a black Chevy Malibu. No change to the license plate number."
   ]
  }
 ],
 "metadata": {
  "kernelspec": {
   "display_name": "Python 3 (ipykernel)",
   "language": "python",
   "name": "python3"
  },
  "language_info": {
   "codemirror_mode": {
    "name": "ipython",
    "version": 3
   },
   "file_extension": ".py",
   "mimetype": "text/x-python",
   "name": "python",
   "nbconvert_exporter": "python",
   "pygments_lexer": "ipython3",
   "version": "3.10.9"
  }
 },
 "nbformat": 4,
 "nbformat_minor": 5
}
